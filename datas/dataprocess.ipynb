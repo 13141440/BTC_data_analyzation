{
 "cells": [
  {
   "cell_type": "code",
   "execution_count": 19,
   "metadata": {},
   "outputs": [
    {
     "name": "stdout",
     "output_type": "stream",
     "text": [
      "          Open       High        Low      Close    Volume       Date\n",
      "0    19.006317  19.785117  18.952295  19.483500  29871900 2021-10-20\n",
      "1    19.199898  19.262922  18.191509  18.380583  20499700 2021-10-21\n",
      "2    18.574154  18.593513  17.511746  17.786350  11914400 2021-10-22\n",
      "3    18.416596  18.596214  18.245530  18.268040   7522900 2021-10-25\n",
      "4    18.209518  18.299553  18.002439  18.033951   6142400 2021-10-26\n",
      "..         ...        ...        ...        ...       ...        ...\n",
      "807  24.580000  24.600000  23.370001  23.440001  10424000 2025-01-07\n",
      "808  23.209999  23.370001  22.469999  22.840000   7174400 2025-01-08\n",
      "809  22.990000  23.330000  22.430000  23.049999   7436500 2025-01-10\n",
      "810  22.110001  22.799999  21.695000  22.740000   9902700 2025-01-13\n",
      "811  23.530001  23.660000  23.170000  23.440001   5828500 2025-01-14\n",
      "\n",
      "[812 rows x 6 columns]\n"
     ]
    },
    {
     "name": "stderr",
     "output_type": "stream",
     "text": [
      "/var/folders/m3/dy1pqcjn27n7fgx386p5t8540000gn/T/ipykernel_2419/2425734965.py:11: FutureWarning: The behavior of 'to_datetime' with 'unit' when parsing strings is deprecated. In a future version, strings will be parsed as datetime strings, matching the behavior without a 'unit'. To retain the old behavior, explicitly cast ints or floats to numeric type before calling to_datetime.\n",
      "  data['open_time'] = pd.to_datetime(data['open_time'][1:],unit='ms')\n",
      "/var/folders/m3/dy1pqcjn27n7fgx386p5t8540000gn/T/ipykernel_2419/2425734965.py:12: FutureWarning: The behavior of 'to_datetime' with 'unit' when parsing strings is deprecated. In a future version, strings will be parsed as datetime strings, matching the behavior without a 'unit'. To retain the old behavior, explicitly cast ints or floats to numeric type before calling to_datetime.\n",
      "  data['close_time'] = pd.to_datetime(data['close_time'][1:],unit='ms')\n"
     ]
    }
   ],
   "source": [
    "import pandas as pd \n",
    "def read_process_data(file_path):\n",
    "    data = pd.read_csv(file_path)\n",
    "    data = data.drop_duplicates()\n",
    "    data.columns = ['open_time','Open','High','Low','Close','Volume','close_time','quote_volume','count','taker_buy_volume','taker_buy_quote_volume','ignore']\n",
    "    return data \n",
    "BTCUSDT_futures_raw=read_process_data('/Users/insnap/Desktop/BTC_data_analyzation/datas/BTCUSDT_futures_klines_daily/BTCUSDT_futures_raw.csv')\n",
    "BTCUSDT_spots_raw=read_process_data('/Users/insnap/Desktop/BTC_data_analyzation/datas/BTCUSDT_spots_klines_daily/BTCUSDT_spots_raw.csv')\n",
    "#处理时间格式\n",
    "def time_format(data):\n",
    "    data['open_time'] = pd.to_datetime(data['open_time'][1:],unit='ms')\n",
    "    data['close_time'] = pd.to_datetime(data['close_time'][1:],unit='ms')\n",
    "    data['Date'] = data['open_time'].dt.strftime('%Y-%m-%d')   \n",
    "    return data \n",
    "BTCUSDT_futures=time_format(BTCUSDT_futures_raw)    \n",
    "BTCUSDT_spots=time_format(BTCUSDT_spots_raw)   \n",
    "#保留两个dataframe共有的列\n",
    "def keep_common_columns(df1,df2):   \n",
    "   common_columns = df1.columns.intersection(df2.columns)\n",
    "   df1_common = df1[common_columns]\n",
    "   df2_common = df2[common_columns]  \n",
    "   return df1_common,df2_common    \n",
    "BITO_stock_data=pd.read_csv('/Users/insnap/Desktop/BTC_data_analyzation/datas/BITO_stock_data.csv')\n",
    "BITO_stock_data['Date']=BITO_stock_data['Date'].apply(lambda x:str(x)[:10] if isinstance(x,str) else str(x)[:10])\n",
    "BITO_stock_data['Date']=pd.to_datetime(BITO_stock_data['Date'])  \n",
    "IBIT_stock_data=pd.read_csv('/Users/insnap/Desktop/BTC_data_analyzation/datas/IBIT_stock_data.csv')\n",
    "IBIT_stock_data['Date']=IBIT_stock_data['Date'].apply(lambda x:str(x)[:10] if isinstance(x,str) else str(x)[:10])\n",
    "IBIT_stock_data['Date']=pd.to_datetime(IBIT_stock_data['Date'])\n",
    "BTCUSDT_futures,BITO_stock_data=keep_common_columns(BTCUSDT_futures,BITO_stock_data)\n",
    "BTCUSDT_spots,IBIT_stock_data=keep_common_columns(BTCUSDT_spots,IBIT_stock_data)  \n",
    "print(BITO_stock_data) \n",
    "#保存数据        \n",
    "BTCUSDT_futures.to_csv('/Users/insnap/Desktop/BTC_data_analyzation/datas/BTCUSDT_futures.csv',index=False)\n",
    "BTCUSDT_spots.to_csv('/Users/insnap/Desktop/BTC_data_analyzation/datas/BTCUSDT_spots.csv',index=False)  \n",
    "BITO_stock_data.to_csv('/Users/insnap/Desktop/BTC_data_analyzation/datas/BITO_stock_data.csv',index=False)  \n",
    "IBIT_stock_data.to_csv('/Users/insnap/Desktop/BTC_data_analyzation/datas/IBIT_stock_data.csv',index=False)"
   ]
  },
  {
   "cell_type": "code",
   "execution_count": null,
   "metadata": {},
   "outputs": [],
   "source": []
  }
 ],
 "metadata": {
  "kernelspec": {
   "display_name": "py311",
   "language": "python",
   "name": "python3"
  },
  "language_info": {
   "codemirror_mode": {
    "name": "ipython",
    "version": 3
   },
   "file_extension": ".py",
   "mimetype": "text/x-python",
   "name": "python",
   "nbconvert_exporter": "python",
   "pygments_lexer": "ipython3",
   "version": "3.11.7"
  }
 },
 "nbformat": 4,
 "nbformat_minor": 2
}
